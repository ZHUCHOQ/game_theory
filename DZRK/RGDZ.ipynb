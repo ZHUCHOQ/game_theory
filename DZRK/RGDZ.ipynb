{
 "cells": [
  {
   "cell_type": "markdown",
   "id": "cc94e8eb",
   "metadata": {},
   "source": [
    "-5  -1  -1  -3   0\n",
    "-4   1   0  -4   0\n",
    "-6  -1   0  -5   0\n",
    "-3   0   0  -3   0\n",
    " 2  -3  -4   3  -3\n",
    "\n",
    " 1. Нормализация матрицы\n",
    "Для нормализации прибавляем ко всем элементам матрицы число 6 (максимальное по модулю отрицательное число):"
   ]
  },
  {
   "cell_type": "code",
   "execution_count": 11,
   "id": "8a0a6092",
   "metadata": {},
   "outputs": [
    {
     "name": "stdout",
     "output_type": "stream",
     "text": [
      "Нормализованная матрица:\n",
      "[[1 5 5 3 6]\n",
      " [2 7 6 2 6]\n",
      " [0 5 6 1 6]\n",
      " [3 6 6 3 6]\n",
      " [8 3 2 9 3]]\n"
     ]
    }
   ],
   "source": [
    "import numpy as np\n",
    "\n",
    "# Исходная матрица для варианта 9\n",
    "original_matrix = np.array([\n",
    "    [-5, -1, -1, -3, 0],\n",
    "    [-4, 1, 0, -4, 0],\n",
    "    [-6, -1, 0, -5, 0],\n",
    "    [-3, 0, 0, -3, 0],\n",
    "    [2, -3, -4, 3, -3]\n",
    "])\n",
    "\n",
    "normalizer = 6\n",
    "normalized_matrix = original_matrix + normalizer\n",
    "print(\"Нормализованная матрица:\")\n",
    "print(normalized_matrix)"
   ]
  },
  {
   "cell_type": "markdown",
   "id": "58ece427",
   "metadata": {},
   "source": [
    "Результат:\n",
    "[[1 5 5 3 6]\n",
    " [2 7 6 2 6]\n",
    " [0 5 6 1 6]\n",
    " [3 6 6 3 6]\n",
    " [8 3 2 9 3]]"
   ]
  },
  {
   "cell_type": "markdown",
   "id": "f621b1b2",
   "metadata": {},
   "source": [
    "2. Уменьшение размерности\n",
    "Метод доминируемых стратегий"
   ]
  },
  {
   "cell_type": "code",
   "execution_count": 12,
   "id": "e1385300",
   "metadata": {},
   "outputs": [
    {
     "name": "stdout",
     "output_type": "stream",
     "text": [
      "Матрица после сокращения доминированием:\n",
      "[[2 7 6]\n",
      " [3 6 6]\n",
      " [8 3 2]]\n"
     ]
    }
   ],
   "source": [
    "def reduce_by_domination(matrix):\n",
    "    # Удаление доминируемых строк\n",
    "    rows_to_keep = list(range(len(matrix)))\n",
    "    for i in range(len(matrix)):\n",
    "        for j in range(i+1, len(matrix)):\n",
    "            if all(matrix[i] >= matrix[j]):  # i доминирует j\n",
    "                if j in rows_to_keep:\n",
    "                    rows_to_keep.remove(j)\n",
    "            elif all(matrix[j] >= matrix[i]):  # j доминирует i\n",
    "                if i in rows_to_keep:\n",
    "                    rows_to_keep.remove(i)\n",
    "    \n",
    "    # Удаление доминируемых столбцов\n",
    "    cols_to_keep = list(range(len(matrix[0])))\n",
    "    for i in range(len(matrix[0])):\n",
    "        for j in range(i+1, len(matrix[0])):\n",
    "            if all(matrix[:,i] <= matrix[:,j]):  # i доминирует j\n",
    "                if j in cols_to_keep:\n",
    "                    cols_to_keep.remove(j)\n",
    "            elif all(matrix[:,j] <= matrix[:,i]):  # j доминирует i\n",
    "                if i in cols_to_keep:\n",
    "                    cols_to_keep.remove(i)\n",
    "    \n",
    "    return matrix[np.ix_(rows_to_keep, cols_to_keep)]\n",
    "\n",
    "reduced_matrix = reduce_by_domination(normalized_matrix)\n",
    "print(\"Матрица после сокращения доминированием:\")\n",
    "print(reduced_matrix)"
   ]
  },
  {
   "cell_type": "markdown",
   "id": "0c98b125",
   "metadata": {},
   "source": [
    "Метод NBR-стратегий"
   ]
  },
  {
   "cell_type": "code",
   "execution_count": 13,
   "id": "aaf46a94",
   "metadata": {},
   "outputs": [
    {
     "name": "stdout",
     "output_type": "stream",
     "text": [
      "Матрица после удаления NBR-стратегий:\n",
      "[[1 5]\n",
      " [2 6]\n",
      " [8 2]]\n"
     ]
    }
   ],
   "source": [
    "def reduce_by_nbr(matrix):\n",
    "    # Находим лучшие ответы для каждого игрока\n",
    "    best_responses_A = set(np.argmax(matrix, axis=0))  # Максимальные элементы по столбцам\n",
    "    best_responses_B = set(np.argmin(matrix, axis=1))  # Минимальные элементы по строкам\n",
    "    \n",
    "    # Удаляем стратегии, которые никогда не являются лучшим ответом\n",
    "    rows_to_keep = list(best_responses_A)\n",
    "    cols_to_keep = list(best_responses_B)\n",
    "    \n",
    "    return matrix[np.ix_(rows_to_keep, cols_to_keep)]\n",
    "\n",
    "nbr_reduced = reduce_by_nbr(normalized_matrix)\n",
    "print(\"Матрица после удаления NBR-стратегий:\")\n",
    "print(nbr_reduced)"
   ]
  },
  {
   "cell_type": "markdown",
   "id": "d511838a",
   "metadata": {},
   "source": [
    "3. Решение игры 2×2\n",
    "После сокращения получаем матрицу 2×2. Для примера предположим, что остались стратегии a1, a5 и b2, b3:"
   ]
  },
  {
   "cell_type": "code",
   "execution_count": 14,
   "id": "a6f2c40f",
   "metadata": {},
   "outputs": [
    {
     "name": "stdout",
     "output_type": "stream",
     "text": [
      "Цена игры: 4.500\n",
      "Стратегия игрока A: (0.75, 0.25)\n",
      "Стратегия игрока B: (0.75, 0.25)\n"
     ]
    }
   ],
   "source": [
    "# Предположим, что после сокращения получилась матрица:\n",
    "final_matrix = np.array([[5, 3], \n",
    "                         [3, 9]])\n",
    "\n",
    "def solve_2x2_game(matrix):\n",
    "    a, b = matrix[0]\n",
    "    c, d = matrix[1]\n",
    "    \n",
    "    # Цена игры\n",
    "    v = (a*d - b*c) / (a + d - b - c)\n",
    "    \n",
    "    # Смешанная стратегия игрока A\n",
    "    p = (d - c) / (a + d - b - c)  # Вероятность выбора первой стратегии\n",
    "    q = 1 - p  # Вероятность выбора второй стратегии\n",
    "    \n",
    "    # Смешанная стратегия игрока B\n",
    "    r = (d - b) / (a + d - b - c)  # Вероятность выбора первой стратегии\n",
    "    s = 1 - r  # Вероятность выбора второй стратегии\n",
    "    \n",
    "    return v, (p, q), (r, s)\n",
    "\n",
    "game_price, strategy_A, strategy_B = solve_2x2_game(final_matrix)\n",
    "print(f\"Цена игры: {game_price:.3f}\")\n",
    "print(f\"Стратегия игрока A: {strategy_A}\")\n",
    "print(f\"Стратегия игрока B: {strategy_B}\")"
   ]
  },
  {
   "cell_type": "markdown",
   "id": "c79b184f",
   "metadata": {},
   "source": [
    "4. Графоаналитический метод"
   ]
  },
  {
   "cell_type": "code",
   "execution_count": 15,
   "id": "582f584b",
   "metadata": {},
   "outputs": [
    {
     "data": {
      "image/png": "[encoded data removed]",
      "text/plain": [
       "<Figure size 1000x600 with 1 Axes>"
      ]
     },
     "metadata": {},
     "output_type": "display_data"
    }
   ],
   "source": [
    "import matplotlib.pyplot as plt\n",
    "\n",
    "def graphical_solution(matrix):\n",
    "    x = np.linspace(0, 1, 100)\n",
    "    \n",
    "    # Ожидаемые выигрыши для стратегий игрока B\n",
    "    payoff_b1 = matrix[0,0] * x + matrix[1,0] * (1 - x)\n",
    "    payoff_b2 = matrix[0,1] * x + matrix[1,1] * (1 - x)\n",
    "    \n",
    "    # Находим точку пересечения\n",
    "    idx = np.argmin(np.abs(payoff_b1 - payoff_b2))\n",
    "    x_opt = x[idx]\n",
    "    v_opt = payoff_b1[idx]\n",
    "    \n",
    "    plt.figure(figsize=(10, 6))\n",
    "    plt.plot(x, payoff_b1, label='Стратегия B1')\n",
    "    plt.plot(x, payoff_b2, label='Стратегия B2')\n",
    "    plt.axvline(x=x_opt, color='r', linestyle='--', label=f'Оптимум: x={x_opt:.3f}')\n",
    "    plt.axhline(y=v_opt, color='g', linestyle='--', label=f'Цена игры: v={v_opt:.3f}')\n",
    "    plt.xlabel('Вероятность выбора стратегии A1')\n",
    "    plt.ylabel('Ожидаемый выигрыш')\n",
    "    plt.legend()\n",
    "    plt.title('Графоаналитическое решение')\n",
    "    plt.grid(True)\n",
    "    plt.show()\n",
    "    \n",
    "    return x_opt, v_opt\n",
    "\n",
    "x_opt, v_opt = graphical_solution(final_matrix)"
   ]
  },
  {
   "cell_type": "markdown",
   "id": "a63d8619",
   "metadata": {},
   "source": [
    "5. Аналитический (матричный) метод"
   ]
  },
  {
   "cell_type": "code",
   "execution_count": 16,
   "id": "e03e4b6b",
   "metadata": {},
   "outputs": [
    {
     "name": "stdout",
     "output_type": "stream",
     "text": [
      "Цена игры (аналитический метод): 4.500\n",
      "Стратегия игрока A: [0.75 0.25]\n"
     ]
    }
   ],
   "source": [
    "def analytical_solution(matrix):\n",
    "    # Для игрока A\n",
    "    A = np.array([\n",
    "        [matrix[0,0], matrix[1,0], -1],\n",
    "        [matrix[0,1], matrix[1,1], -1],\n",
    "        [1, 1, 0]\n",
    "    ])\n",
    "    b = np.array([0, 0, 1])\n",
    "    \n",
    "    solution_A = np.linalg.solve(A, b)\n",
    "    strategy_A = solution_A[:2]\n",
    "    game_price = solution_A[2]\n",
    "    \n",
    "    return game_price, strategy_A\n",
    "\n",
    "game_price, strategy_A = analytical_solution(final_matrix)\n",
    "print(f\"Цена игры (аналитический метод): {game_price:.3f}\")\n",
    "print(f\"Стратегия игрока A: {strategy_A}\")"
   ]
  },
  {
   "cell_type": "markdown",
   "id": "7c51c882",
   "metadata": {},
   "source": [
    "6. Симплекс-метод"
   ]
  },
  {
   "cell_type": "code",
   "execution_count": 17,
   "id": "4c997a20",
   "metadata": {},
   "outputs": [
    {
     "name": "stdout",
     "output_type": "stream",
     "text": [
      "Цена игры (симплекс-метод): 4.500\n"
     ]
    },
    {
     "name": "stderr",
     "output_type": "stream",
     "text": [
      "C:\\Users\\Влад\\AppData\\Local\\Temp\\ipykernel_13528\\2469913511.py:11: DeprecationWarning: `method='simplex'` is deprecated and will be removed in SciPy 1.11.0. Please use one of the HiGHS solvers (e.g. `method='highs'`) in new code.\n",
      "  res_A = linprog(c, A_ub=A_ub, b_ub=b_ub, bounds=bounds, method='simplex')\n"
     ]
    }
   ],
   "source": [
    "from scipy.optimize import linprog\n",
    "\n",
    "def simplex_solution(matrix):\n",
    "    # Задача для игрока A (минимизация)\n",
    "    c = [1, 1]  # F = x1 + x2 → min\n",
    "    A_ub = [[-matrix[0,0], -matrix[1,0]],  # Ограничения ≥ 1\n",
    "            [-matrix[0,1], -matrix[1,1]]]\n",
    "    b_ub = [-1, -1]\n",
    "    bounds = [(0, None), (0, None)]\n",
    "    \n",
    "    res_A = linprog(c, A_ub=A_ub, b_ub=b_ub, bounds=bounds, method='simplex')\n",
    "    game_price_A = 1 / res_A.fun if res_A.fun != 0 else 0\n",
    "    \n",
    "    return game_price_A, res_A.x\n",
    "\n",
    "game_price_simplex, strategy_simplex = simplex_solution(final_matrix)\n",
    "print(f\"Цена игры (симплекс-метод): {game_price_simplex:.3f}\")"
   ]
  },
  {
   "cell_type": "markdown",
   "id": "902caa3b",
   "metadata": {},
   "source": [
    "7. Расчет цены игры для исходной матрицы"
   ]
  },
  {
   "cell_type": "code",
   "execution_count": 18,
   "id": "a15d751f",
   "metadata": {},
   "outputs": [
    {
     "name": "stdout",
     "output_type": "stream",
     "text": [
      "Цена игры для исходной матрицы: -1.500\n"
     ]
    }
   ],
   "source": [
    "# Цена игры для исходной матрицы\n",
    "original_game_price = game_price - normalizer\n",
    "print(f\"Цена игры для исходной матрицы: {original_game_price:.3f}\")"
   ]
  },
  {
   "cell_type": "markdown",
   "id": "42ebeb81",
   "metadata": {},
   "source": []
  }
 ],
 "metadata": {
  "kernelspec": {
   "display_name": "ML",
   "language": "python",
   "name": "python3"
  },
  "language_info": {
   "codemirror_mode": {
    "name": "ipython",
    "version": 3
   },
   "file_extension": ".py",
   "mimetype": "text/x-python",
   "name": "python",
   "nbconvert_exporter": "python",
   "pygments_lexer": "ipython3",
   "version": "3.11.13"
  }
 },
 "nbformat": 4,
 "nbformat_minor": 5
}
